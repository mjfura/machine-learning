{
 "cells": [
  {
   "cell_type": "code",
   "execution_count": 19,
   "metadata": {},
   "outputs": [],
   "source": [
    "import numpy as np\n",
    "from sklearn.linear_model import LinearRegression,Ridge,Lasso,ElasticNet\n",
    "from sklearn.pipeline import Pipeline\n",
    "from sklearn.preprocessing import StandardScaler,MinMaxScaler\n",
    "import pandas as pd\n",
    "from sklearn.model_selection import train_test_split\n",
    "from sklearn.metrics import mean_squared_error as mse"
   ]
  },
  {
   "cell_type": "code",
   "execution_count": 24,
   "metadata": {},
   "outputs": [],
   "source": [
    "np.random.seed(0)\n",
    "sample_size = 1000"
   ]
  },
  {
   "cell_type": "code",
   "execution_count": 25,
   "metadata": {},
   "outputs": [],
   "source": [
    "X = np.random.rand(sample_size, 5)\n",
    "w = np.array([1,0,2,0,3])\n",
    "y = np.dot(X, w) + np.random.normal( size=(sample_size,))"
   ]
  },
  {
   "cell_type": "code",
   "execution_count": 29,
   "metadata": {},
   "outputs": [],
   "source": [
    "reg_linear = Pipeline([('scaler', StandardScaler()), ('model', LinearRegression())]).fit(X, y)\n",
    "reg_ridge = Pipeline([('scaler', StandardScaler()), ('model', Ridge(alpha=100))]).fit(X, y)\n",
    "reg_lasso = Pipeline([('scaler', StandardScaler()), ('model', Lasso(alpha=0.1))]).fit(X, y)\n",
    "reg_elasticnet = Pipeline([('scaler', StandardScaler()), ('model', ElasticNet(alpha=0.1, l1_ratio=0.5))]).fit(X, y)"
   ]
  },
  {
   "cell_type": "code",
   "execution_count": 7,
   "metadata": {},
   "outputs": [],
   "source": [
    "coef_pd = pd.DataFrame({\n",
    "    \"variable\":[\"x1\",\"x2\",\"x3\",\"x4\",\"x5\"],\n",
    "    \"coef_linear\":reg_linear['model'].coef_,\n",
    "    \"coef_ridge\":reg_ridge['model'].coef_,\n",
    "    \"coef_lasso\":reg_lasso['model'].coef_,\n",
    "    \"coef_elasticnet\":reg_elasticnet['model'].coef_\n",
    "})"
   ]
  },
  {
   "cell_type": "code",
   "execution_count": 9,
   "metadata": {},
   "outputs": [
    {
     "data": {
      "text/html": [
       "<div>\n",
       "<style scoped>\n",
       "    .dataframe tbody tr th:only-of-type {\n",
       "        vertical-align: middle;\n",
       "    }\n",
       "\n",
       "    .dataframe tbody tr th {\n",
       "        vertical-align: top;\n",
       "    }\n",
       "\n",
       "    .dataframe thead th {\n",
       "        text-align: right;\n",
       "    }\n",
       "</style>\n",
       "<table border=\"1\" class=\"dataframe\">\n",
       "  <thead>\n",
       "    <tr style=\"text-align: right;\">\n",
       "      <th></th>\n",
       "      <th>variable</th>\n",
       "      <th>coef_linear</th>\n",
       "      <th>coef_ridge</th>\n",
       "      <th>coef_lasso</th>\n",
       "      <th>coef_elasticnet</th>\n",
       "    </tr>\n",
       "  </thead>\n",
       "  <tbody>\n",
       "    <tr>\n",
       "      <th>0</th>\n",
       "      <td>x1</td>\n",
       "      <td>0.295166</td>\n",
       "      <td>0.264944</td>\n",
       "      <td>0.189243</td>\n",
       "      <td>0.228405</td>\n",
       "    </tr>\n",
       "    <tr>\n",
       "      <th>1</th>\n",
       "      <td>x2</td>\n",
       "      <td>-0.038902</td>\n",
       "      <td>-0.033472</td>\n",
       "      <td>-0.000000</td>\n",
       "      <td>-0.000000</td>\n",
       "    </tr>\n",
       "    <tr>\n",
       "      <th>2</th>\n",
       "      <td>x3</td>\n",
       "      <td>0.559480</td>\n",
       "      <td>0.509018</td>\n",
       "      <td>0.460455</td>\n",
       "      <td>0.486018</td>\n",
       "    </tr>\n",
       "    <tr>\n",
       "      <th>3</th>\n",
       "      <td>x4</td>\n",
       "      <td>-0.009901</td>\n",
       "      <td>-0.006504</td>\n",
       "      <td>-0.000000</td>\n",
       "      <td>-0.000000</td>\n",
       "    </tr>\n",
       "    <tr>\n",
       "      <th>4</th>\n",
       "      <td>x5</td>\n",
       "      <td>0.850992</td>\n",
       "      <td>0.772444</td>\n",
       "      <td>0.745623</td>\n",
       "      <td>0.759323</td>\n",
       "    </tr>\n",
       "  </tbody>\n",
       "</table>\n",
       "</div>"
      ],
      "text/plain": [
       "  variable  coef_linear  coef_ridge  coef_lasso  coef_elasticnet\n",
       "0       x1     0.295166    0.264944    0.189243         0.228405\n",
       "1       x2    -0.038902   -0.033472   -0.000000        -0.000000\n",
       "2       x3     0.559480    0.509018    0.460455         0.486018\n",
       "3       x4    -0.009901   -0.006504   -0.000000        -0.000000\n",
       "4       x5     0.850992    0.772444    0.745623         0.759323"
      ]
     },
     "execution_count": 9,
     "metadata": {},
     "output_type": "execute_result"
    }
   ],
   "source": [
    "coef_pd"
   ]
  },
  {
   "cell_type": "code",
   "execution_count": 14,
   "metadata": {},
   "outputs": [],
   "source": [
    "reg_ridge_2 = Pipeline([('scaler', StandardScaler()), ('model', Ridge(alpha=0.1))]).fit(X, y)"
   ]
  },
  {
   "cell_type": "code",
   "execution_count": 15,
   "metadata": {},
   "outputs": [],
   "source": [
    "coef_pd_2 = pd.DataFrame(\n",
    "    {\n",
    "        \"variable\": [\"x1\", \"x2\", \"x3\", \"x4\", \"x5\"],\n",
    "        \"coef_linear\": reg_linear[\"model\"].coef_,\n",
    "        \"coef_ridge\": reg_ridge[\"model\"].coef_,\n",
    "        \"coef_ridge_2\": reg_ridge_2[\"model\"].coef_,\n",
    "        \"coef_lasso\": reg_lasso[\"model\"].coef_,\n",
    "        \"coef_elasticnet\": reg_elasticnet[\"model\"].coef_,\n",
    "    }\n",
    ")"
   ]
  },
  {
   "cell_type": "code",
   "execution_count": 16,
   "metadata": {},
   "outputs": [
    {
     "data": {
      "text/html": [
       "<div>\n",
       "<style scoped>\n",
       "    .dataframe tbody tr th:only-of-type {\n",
       "        vertical-align: middle;\n",
       "    }\n",
       "\n",
       "    .dataframe tbody tr th {\n",
       "        vertical-align: top;\n",
       "    }\n",
       "\n",
       "    .dataframe thead th {\n",
       "        text-align: right;\n",
       "    }\n",
       "</style>\n",
       "<table border=\"1\" class=\"dataframe\">\n",
       "  <thead>\n",
       "    <tr style=\"text-align: right;\">\n",
       "      <th></th>\n",
       "      <th>variable</th>\n",
       "      <th>coef_linear</th>\n",
       "      <th>coef_ridge</th>\n",
       "      <th>coef_ridge_2</th>\n",
       "      <th>coef_lasso</th>\n",
       "      <th>coef_elasticnet</th>\n",
       "    </tr>\n",
       "  </thead>\n",
       "  <tbody>\n",
       "    <tr>\n",
       "      <th>0</th>\n",
       "      <td>x1</td>\n",
       "      <td>0.295166</td>\n",
       "      <td>0.264944</td>\n",
       "      <td>0.295133</td>\n",
       "      <td>0.189243</td>\n",
       "      <td>0.228405</td>\n",
       "    </tr>\n",
       "    <tr>\n",
       "      <th>1</th>\n",
       "      <td>x2</td>\n",
       "      <td>-0.038902</td>\n",
       "      <td>-0.033472</td>\n",
       "      <td>-0.038895</td>\n",
       "      <td>-0.000000</td>\n",
       "      <td>-0.000000</td>\n",
       "    </tr>\n",
       "    <tr>\n",
       "      <th>2</th>\n",
       "      <td>x3</td>\n",
       "      <td>0.559480</td>\n",
       "      <td>0.509018</td>\n",
       "      <td>0.559425</td>\n",
       "      <td>0.460455</td>\n",
       "      <td>0.486018</td>\n",
       "    </tr>\n",
       "    <tr>\n",
       "      <th>3</th>\n",
       "      <td>x4</td>\n",
       "      <td>-0.009901</td>\n",
       "      <td>-0.006504</td>\n",
       "      <td>-0.009897</td>\n",
       "      <td>-0.000000</td>\n",
       "      <td>-0.000000</td>\n",
       "    </tr>\n",
       "    <tr>\n",
       "      <th>4</th>\n",
       "      <td>x5</td>\n",
       "      <td>0.850992</td>\n",
       "      <td>0.772444</td>\n",
       "      <td>0.850906</td>\n",
       "      <td>0.745623</td>\n",
       "      <td>0.759323</td>\n",
       "    </tr>\n",
       "  </tbody>\n",
       "</table>\n",
       "</div>"
      ],
      "text/plain": [
       "  variable  coef_linear  coef_ridge  coef_ridge_2  coef_lasso  coef_elasticnet\n",
       "0       x1     0.295166    0.264944      0.295133    0.189243         0.228405\n",
       "1       x2    -0.038902   -0.033472     -0.038895   -0.000000        -0.000000\n",
       "2       x3     0.559480    0.509018      0.559425    0.460455         0.486018\n",
       "3       x4    -0.009901   -0.006504     -0.009897   -0.000000        -0.000000\n",
       "4       x5     0.850992    0.772444      0.850906    0.745623         0.759323"
      ]
     },
     "execution_count": 16,
     "metadata": {},
     "output_type": "execute_result"
    }
   ],
   "source": [
    "coef_pd_2"
   ]
  },
  {
   "cell_type": "code",
   "execution_count": 26,
   "metadata": {},
   "outputs": [],
   "source": [
    "X_train, X_val, y_train, y_val = train_test_split(X, y, test_size=0.2, random_state=0)"
   ]
  },
  {
   "cell_type": "code",
   "execution_count": 27,
   "metadata": {},
   "outputs": [
    {
     "name": "stdout",
     "output_type": "stream",
     "text": [
      "1.052402821020877\n"
     ]
    }
   ],
   "source": [
    "reg_linear_2 = LinearRegression().fit(X_train, y_train)\n",
    "print(mse(y_val,reg_linear_2.predict(X_val)))"
   ]
  },
  {
   "cell_type": "code",
   "execution_count": 30,
   "metadata": {},
   "outputs": [
    {
     "name": "stdout",
     "output_type": "stream",
     "text": [
      "1.0410004237699289\n"
     ]
    }
   ],
   "source": [
    "print(mse(y_val,reg_linear.predict(X_val)))"
   ]
  },
  {
   "cell_type": "code",
   "execution_count": 31,
   "metadata": {},
   "outputs": [
    {
     "name": "stdout",
     "output_type": "stream",
     "text": [
      "1.0417185407101879\n",
      "1.04741341927916\n",
      "1.0446547993753348\n"
     ]
    }
   ],
   "source": [
    "print(mse(y_val,reg_ridge.predict(X_val)))\n",
    "print(mse(y_val,reg_lasso.predict(X_val)))\n",
    "print(mse(y_val,reg_elasticnet.predict(X_val)))"
   ]
  },
  {
   "cell_type": "code",
   "execution_count": 32,
   "metadata": {},
   "outputs": [],
   "source": [
    "reg_linear_normal = Pipeline(\n",
    "    [(\"scaler\", MinMaxScaler()), (\"model\", LinearRegression())]\n",
    ").fit(X, y)\n",
    "reg_ridge_normal = Pipeline([(\"scaler\", MinMaxScaler()), (\"model\", Ridge(alpha=100))]).fit(\n",
    "    X, y\n",
    ")\n",
    "reg_lasso_normal = Pipeline([(\"scaler\", MinMaxScaler()), (\"model\", Lasso(alpha=0.1))]).fit(\n",
    "    X, y\n",
    ")\n",
    "reg_elasticnet_normal = Pipeline(\n",
    "    [(\"scaler\", MinMaxScaler()), (\"model\", ElasticNet(alpha=0.1, l1_ratio=0.5))]\n",
    ").fit(X, y)"
   ]
  },
  {
   "cell_type": "code",
   "execution_count": 33,
   "metadata": {},
   "outputs": [
    {
     "name": "stdout",
     "output_type": "stream",
     "text": [
      "1.0410004237699289\n",
      "1.2870864852456068\n",
      "1.2493047566755229\n",
      "1.2750671433720477\n"
     ]
    }
   ],
   "source": [
    "print(mse(y_val, reg_linear_normal.predict(X_val)))\n",
    "print(mse(y_val, reg_ridge_normal.predict(X_val)))\n",
    "print(mse(y_val, reg_lasso_normal.predict(X_val)))\n",
    "print(mse(y_val, reg_elasticnet_normal.predict(X_val)))\n"
   ]
  }
 ],
 "metadata": {
  "kernelspec": {
   "display_name": "fundamentos_matematicos",
   "language": "python",
   "name": "python3"
  },
  "language_info": {
   "codemirror_mode": {
    "name": "ipython",
    "version": 3
   },
   "file_extension": ".py",
   "mimetype": "text/x-python",
   "name": "python",
   "nbconvert_exporter": "python",
   "pygments_lexer": "ipython3",
   "version": "3.12.2"
  }
 },
 "nbformat": 4,
 "nbformat_minor": 2
}
